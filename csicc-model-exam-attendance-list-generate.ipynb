{
 "cells": [
  {
   "cell_type": "code",
   "execution_count": 1,
   "id": "803a0b22",
   "metadata": {},
   "outputs": [],
   "source": [
    "import  pandas     as     pd\n",
    "import  datetime\n",
    "from    datetime   import datetime\n",
    "import  docx, os\n",
    "from    docx.shared import Pt\n",
    "\n",
    "folder  =   r'E:\\CSI-CC-Model-Exam'\n",
    "os.chdir(folder)"
   ]
  },
  {
   "cell_type": "code",
   "execution_count": 2,
   "id": "cce9feaf",
   "metadata": {},
   "outputs": [
    {
     "name": "stdout",
     "output_type": "stream",
     "text": [
      "Choose the subject \n",
      " 1 - CBSE CS; 2 - CBSE IP; 3 - TNSB CS; 4 - TNSB CA:2\n",
      "\n",
      "Subject is: CBSE-IP\n"
     ]
    }
   ],
   "source": [
    "### Get the subject from the user\n",
    "\n",
    "subject_id  = int(input(\"Choose the subject \\n 1 - CBSE CS; 2 - CBSE IP; 3 - TNSB CS; 4 - TNSB CA:\"))\n",
    "\n",
    "subj        =  \"\"\n",
    "if  subject_id == 1:\n",
    "    subj        =  \"CBSE-CS\"\n",
    "elif  subject_id == 2:\n",
    "    subj        =  \"CBSE-IP\"\n",
    "elif  subject_id == 3:\n",
    "    subj        =  \"TNSB-CS\"\n",
    "elif  subject_id == 4:\n",
    "    subj        =  \"TNSB-CA\"\n",
    "\n",
    "print(\"\\nSubject is: \" + subj)"
   ]
  },
  {
   "cell_type": "code",
   "execution_count": 3,
   "id": "e9c7e831",
   "metadata": {},
   "outputs": [],
   "source": [
    "def rename_obj(old, new):\n",
    "    os.replace(old, new)\n",
    "    print(\"folder created %s\" %new)"
   ]
  },
  {
   "cell_type": "code",
   "execution_count": null,
   "id": "95dbf441",
   "metadata": {},
   "outputs": [],
   "source": []
  },
  {
   "cell_type": "code",
   "execution_count": 4,
   "id": "5b5ab00e",
   "metadata": {},
   "outputs": [],
   "source": [
    "def generate_rollnos(starting, size):\n",
    "    roll_no_prefix =   \"2024_\" + subj + \"_\"\n",
    "    str_ =  []\n",
    "    end_ =  starting +  size  + 1  \n",
    "    for i in range(starting, end_):\n",
    "        stri =  roll_no_prefix + str(i).zfill(3)\n",
    "        str_.append(stri)\n",
    "    return str_"
   ]
  },
  {
   "cell_type": "code",
   "execution_count": 5,
   "id": "8fa2dd64",
   "metadata": {},
   "outputs": [
    {
     "data": {
      "text/plain": [
       "'E:\\\\CSI-CC-Model-Exam\\\\Data'"
      ]
     },
     "execution_count": 5,
     "metadata": {},
     "output_type": "execute_result"
    }
   ],
   "source": [
    "new_folder  =  folder + '/Data'\n",
    "os.chdir(new_folder)\n",
    "os.getcwd()"
   ]
  },
  {
   "cell_type": "code",
   "execution_count": 6,
   "id": "3db84f31",
   "metadata": {},
   "outputs": [
    {
     "name": "stdout",
     "output_type": "stream",
     "text": [
      "E:\\CSI-CC-Model-Exam/Data/CBSE-IP/starting_number.txt\n",
      "Starting number 63\n"
     ]
    }
   ],
   "source": [
    "ini_file   =   new_folder + '/' + subj + '/' + 'starting_number.txt'\n",
    "print(ini_file)\n",
    "with open(ini_file) as file: # Use file to refer to the file object\n",
    "            start_number = int(file.read())\n",
    "print(\"Starting number %d\" %start_number)"
   ]
  },
  {
   "cell_type": "code",
   "execution_count": 7,
   "id": "06648177",
   "metadata": {},
   "outputs": [],
   "source": [
    "file_dir    =   new_folder + '/' + subj + '/Input'\n",
    "files       =   os.listdir(new_folder + '/' + subj + '/Input')\n",
    "### 'CBSE-CS-class 12 name list for cca exam.xlsx'"
   ]
  },
  {
   "cell_type": "code",
   "execution_count": 8,
   "id": "252a2871",
   "metadata": {},
   "outputs": [
    {
     "data": {
      "text/plain": [
       "['CBSE-IP-CHINMAYA VIDYALAYA SSS_VIRUGAMBAKKAM _ NAME LIST.xlsx']"
      ]
     },
     "execution_count": 8,
     "metadata": {},
     "output_type": "execute_result"
    }
   ],
   "source": [
    "files"
   ]
  },
  {
   "cell_type": "code",
   "execution_count": 9,
   "id": "54dee94c",
   "metadata": {},
   "outputs": [],
   "source": [
    "def  prt_attendance(school, subj, size, sl, rolls, names, sig, marks):\n",
    "  \n",
    "    ###\n",
    "    # Adding heading in the first row of the table \n",
    "    ###\n",
    "    doc.add_heading(school, 0) \n",
    "    ### \n",
    "    # Adding a paragraph\n",
    "    ###  \n",
    "    txt1   =  \"2024- Attendance List of Class XII students for the Subject:\"+ subj\n",
    "    doc.add_heading(txt1, 1) \n",
    "\n",
    "    ###\n",
    "    ### Set font size\n",
    "    ###\n",
    "    font.size = Pt(12)\n",
    "\n",
    "    # Creating a table object\n",
    "    ###\n",
    "    table  = doc.add_table(rows = 1, cols = 5)\n",
    "    \n",
    "    # Add a Title to the document\n",
    "    row               =  table.rows[0].cells\n",
    "    row[0].text       = 'Sl. No.'\n",
    "    row[1].text       = 'Registration No.   '\n",
    "    row[2].text       = 'Name                       '\n",
    "    row[3].text       = 'Signature    '\n",
    "    row[4].text       = 'Marks'\n",
    "    \n",
    "    ###\n",
    "    for  ii in range(size):\n",
    "         # add new row to table\n",
    "         row          =  table.add_row().cells\n",
    "         row[0].text  =  str(sl.tolist()[ii])\n",
    "         row[1].text  =  rolls[ii]\n",
    "         row[2].text  =  names.tolist()[ii]\n",
    "         row[3].text  =  \" \"\n",
    "         row[4].text  =  \" \"\n",
    "    # Adding a page break\n",
    "    doc.add_page_break()"
   ]
  },
  {
   "cell_type": "code",
   "execution_count": 10,
   "id": "be20fed3",
   "metadata": {},
   "outputs": [
    {
     "data": {
      "text/plain": [
       "'E:\\\\CSI-CC-Model-Exam\\\\Data'"
      ]
     },
     "execution_count": 10,
     "metadata": {},
     "output_type": "execute_result"
    }
   ],
   "source": [
    "os.getcwd()"
   ]
  },
  {
   "cell_type": "code",
   "execution_count": 11,
   "id": "f4c57df2",
   "metadata": {},
   "outputs": [],
   "source": [
    "j   =  start_number"
   ]
  },
  {
   "cell_type": "code",
   "execution_count": 12,
   "id": "56ac0989",
   "metadata": {},
   "outputs": [
    {
     "name": "stdout",
     "output_type": "stream",
     "text": [
      "Current folder is E:\\CSI-CC-Model-Exam\\Data\\CBSE-IP\n"
     ]
    }
   ],
   "source": [
    "folder   =  'E:/CSI-CC-Model-Exam/Data/' + subj\n",
    "os.chdir(folder)\n",
    "print(\"Current folder is %s\" %os.getcwd())"
   ]
  },
  {
   "cell_type": "markdown",
   "id": "e907a92f",
   "metadata": {},
   "source": [
    "### Create a log file"
   ]
  },
  {
   "cell_type": "code",
   "execution_count": 13,
   "id": "a57825f6",
   "metadata": {},
   "outputs": [
    {
     "data": {
      "text/plain": [
       "44"
      ]
     },
     "execution_count": 13,
     "metadata": {},
     "output_type": "execute_result"
    }
   ],
   "source": [
    "file_log =  \"Log_\" + str(datetime.now().strftime('%Y_%m_%d_%H_%M_%S')) +'.txt'\n",
    "    \n",
    "log_file = open(file_log, \"w\")\n",
    "\n",
    "head_dtd  =  'Attendance list created on Date: ' + str(datetime.now().strftime('%d-%m-%Y')) + \"\\n\"\n",
    "\n",
    "log_file.write(head_dtd)"
   ]
  },
  {
   "cell_type": "code",
   "execution_count": null,
   "id": "e31beb98",
   "metadata": {},
   "outputs": [],
   "source": []
  },
  {
   "cell_type": "code",
   "execution_count": 14,
   "id": "949704d6",
   "metadata": {},
   "outputs": [
    {
     "name": "stdout",
     "output_type": "stream",
     "text": [
      "\n",
      " Processing file CBSE-IP-CHINMAYA VIDYALAYA SSS_VIRUGAMBAKKAM _ NAME LIST.xlsx\n",
      "<class 'str'>\n",
      "CBSE-IP-CHINMAYA\n",
      "J: 63 size: 23\n"
     ]
    }
   ],
   "source": [
    "for  file  in files:\n",
    "     print(\"\\n Processing file %s\" %file)\n",
    "     \n",
    "    \n",
    "     print(type(file))  \n",
    "     school =   file[:16]\n",
    "     print(school)\n",
    "    ###\n",
    "     # Create an instance of a word document\n",
    "     ###\n",
    "     doc         =  docx.Document()\n",
    "     style       =  doc.styles['Normal']\n",
    "     font        =  style.font\n",
    "     font.name   =  'Calibri'\n",
    "    \n",
    "     ###   \n",
    "     file_N  =  file_dir + \"/\" + file\n",
    "     df1     =  pd.read_excel(file_N, sheet_name = 'Sheet1')\n",
    "     stu_df  =  df1.loc[1:, :]\n",
    "     size    =  stu_df.shape[0]\n",
    "     sl      =  stu_df.iloc[:, 0 ].astype('int')\n",
    "     print(\"J: %d size: %d\" %(j, size))        \n",
    "     rolls   =  generate_rollnos(j, size)\n",
    "     j       =  j + size\n",
    "     names   =  stu_df.iloc[:, 2 ]\n",
    "     sig     =  [\"\"] * size\n",
    "     marks   =  [\"\"] * size\n",
    "     prt_attendance(school, subj, size, sl, rolls, names, sig, marks) \n",
    "     msg     =  \"\\n Slno %d size %d File: %s\" % (j, size, file)\n",
    "     log_file.write(msg)\n",
    "    ###\n",
    "    # Now save the document to a location\n",
    "    ###\n",
    "     output_file_name =   \"./Output/\" + school + \"_\" + str(datetime.now().strftime('%Y_%m_%d_%H_%M_%S')) +'.docx'\n",
    "        \n",
    "     doc.save(output_file_name)"
   ]
  },
  {
   "cell_type": "code",
   "execution_count": 15,
   "id": "cd5b5eeb",
   "metadata": {},
   "outputs": [
    {
     "name": "stdout",
     "output_type": "stream",
     "text": [
      "086\n"
     ]
    }
   ],
   "source": [
    "next_val   =  j \n",
    "next_val_s =  str(next_val).zfill(3)\n",
    "print(next_val_s)"
   ]
  },
  {
   "cell_type": "code",
   "execution_count": 16,
   "id": "f244765d",
   "metadata": {},
   "outputs": [
    {
     "data": {
      "text/plain": [
       "'CBSE-IP'"
      ]
     },
     "execution_count": 16,
     "metadata": {},
     "output_type": "execute_result"
    }
   ],
   "source": [
    "subj"
   ]
  },
  {
   "cell_type": "code",
   "execution_count": 17,
   "id": "51d8e51f",
   "metadata": {},
   "outputs": [],
   "source": [
    "file_out = 'starting_number.txt'"
   ]
  },
  {
   "cell_type": "code",
   "execution_count": 18,
   "id": "ec6a5ab5",
   "metadata": {},
   "outputs": [],
   "source": [
    "with open(file_out, 'w') as file: # Use file to refer to the file object\n",
    "     file.write(next_val_s)      "
   ]
  },
  {
   "cell_type": "code",
   "execution_count": 19,
   "id": "2fa0de57",
   "metadata": {},
   "outputs": [],
   "source": [
    "log_file.close()"
   ]
  },
  {
   "cell_type": "code",
   "execution_count": 20,
   "id": "b57cc884",
   "metadata": {},
   "outputs": [
    {
     "data": {
      "text/plain": [
       "'E:\\\\CSI-CC-Model-Exam\\\\Data\\\\CBSE-IP'"
      ]
     },
     "execution_count": 20,
     "metadata": {},
     "output_type": "execute_result"
    }
   ],
   "source": [
    "os.getcwd()"
   ]
  },
  {
   "cell_type": "markdown",
   "id": "f0e82fca",
   "metadata": {},
   "source": [
    "### Rename input folder"
   ]
  },
  {
   "cell_type": "code",
   "execution_count": 21,
   "id": "956ac559",
   "metadata": {},
   "outputs": [
    {
     "name": "stdout",
     "output_type": "stream",
     "text": [
      "folder created Input_20231221175714\n"
     ]
    }
   ],
   "source": [
    "new_input = \"Input_\" + str(datetime.now().strftime('%Y%m%d%H%M%S'))\n",
    "old_input = \"Input\"\n",
    "rename_obj(old_input, new_input)\n"
   ]
  },
  {
   "cell_type": "markdown",
   "id": "805ba681",
   "metadata": {},
   "source": [
    "### Rename output folder"
   ]
  },
  {
   "cell_type": "code",
   "execution_count": 22,
   "id": "4002d1e8",
   "metadata": {},
   "outputs": [
    {
     "name": "stdout",
     "output_type": "stream",
     "text": [
      "folder created Output_20231221175714\n"
     ]
    }
   ],
   "source": [
    "new_output = \"Output_\" + str(datetime.now().strftime('%Y%m%d%H%M%S'))\n",
    "old_output = \"Output\"\n",
    "rename_obj(old_output, new_output)"
   ]
  }
 ],
 "metadata": {
  "kernelspec": {
   "display_name": "Python 3 (ipykernel)",
   "language": "python",
   "name": "python3"
  },
  "language_info": {
   "codemirror_mode": {
    "name": "ipython",
    "version": 3
   },
   "file_extension": ".py",
   "mimetype": "text/x-python",
   "name": "python",
   "nbconvert_exporter": "python",
   "pygments_lexer": "ipython3",
   "version": "3.9.12"
  }
 },
 "nbformat": 4,
 "nbformat_minor": 5
}
